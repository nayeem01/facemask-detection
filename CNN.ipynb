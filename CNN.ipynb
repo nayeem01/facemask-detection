{
 "cells": [
  {
   "cell_type": "code",
   "execution_count": 1,
   "id": "b1ec82ba",
   "metadata": {
    "_cell_guid": "b1076dfc-b9ad-4769-8c92-a6c4dae69d19",
    "_uuid": "8f2839f25d086af736a60e9eeb907d3b93b6e0e5",
    "execution": {
     "iopub.execute_input": "2022-04-28T18:54:09.222583Z",
     "iopub.status.busy": "2022-04-28T18:54:09.222054Z",
     "iopub.status.idle": "2022-04-28T18:54:09.972736Z",
     "shell.execute_reply": "2022-04-28T18:54:09.971814Z"
    },
    "papermill": {
     "duration": 0.763968,
     "end_time": "2022-04-28T18:54:09.975519",
     "exception": false,
     "start_time": "2022-04-28T18:54:09.211551",
     "status": "completed"
    },
    "tags": []
   },
   "outputs": [],
   "source": [
    "import pickle\n",
    "#import os\n",
    "\n",
    "#DATADIR = \"data\"\n",
    "    \n",
    "pickle_in = open(\"X.pickle\",\"rb\")\n",
    "X = pickle.load(pickle_in)\n",
    "\n",
    "pickle_in = open(\"y.pickle\",\"rb\")\n",
    "y = pickle.load(pickle_in)"
   ]
  },
  {
   "cell_type": "code",
   "execution_count": 2,
   "id": "6dfd3d3f",
   "metadata": {
    "execution": {
     "iopub.execute_input": "2022-04-28T18:54:09.991566Z",
     "iopub.status.busy": "2022-04-28T18:54:09.990938Z",
     "iopub.status.idle": "2022-04-28T18:54:15.680988Z",
     "shell.execute_reply": "2022-04-28T18:54:15.680009Z"
    },
    "papermill": {
     "duration": 5.701178,
     "end_time": "2022-04-28T18:54:15.683979",
     "exception": false,
     "start_time": "2022-04-28T18:54:09.982801",
     "status": "completed"
    },
    "tags": []
   },
   "outputs": [],
   "source": [
    "import tensorflow as tf\n",
    "from tensorflow.keras import layers, models"
   ]
  },
  {
   "cell_type": "code",
   "execution_count": 3,
   "id": "7856e311",
   "metadata": {},
   "outputs": [
    {
     "name": "stderr",
     "output_type": "stream",
     "text": [
      "2022-05-05 16:55:33.148364: I tensorflow/core/platform/cpu_feature_guard.cc:151] This TensorFlow binary is optimized with oneAPI Deep Neural Network Library (oneDNN) to use the following CPU instructions in performance-critical operations:  AVX2 FMA\n",
      "To enable them in other operations, rebuild TensorFlow with the appropriate compiler flags.\n",
      "2022-05-05 16:55:33.177619: I tensorflow/stream_executor/cuda/cuda_gpu_executor.cc:936] successful NUMA node read from SysFS had negative value (-1), but there must be at least one NUMA node, so returning NUMA node zero\n",
      "2022-05-05 16:55:33.209429: I tensorflow/stream_executor/cuda/cuda_gpu_executor.cc:936] successful NUMA node read from SysFS had negative value (-1), but there must be at least one NUMA node, so returning NUMA node zero\n",
      "2022-05-05 16:55:33.209631: I tensorflow/stream_executor/cuda/cuda_gpu_executor.cc:936] successful NUMA node read from SysFS had negative value (-1), but there must be at least one NUMA node, so returning NUMA node zero\n",
      "2022-05-05 16:55:33.585154: I tensorflow/stream_executor/cuda/cuda_gpu_executor.cc:936] successful NUMA node read from SysFS had negative value (-1), but there must be at least one NUMA node, so returning NUMA node zero\n",
      "2022-05-05 16:55:33.585314: I tensorflow/stream_executor/cuda/cuda_gpu_executor.cc:936] successful NUMA node read from SysFS had negative value (-1), but there must be at least one NUMA node, so returning NUMA node zero\n",
      "2022-05-05 16:55:33.585431: I tensorflow/stream_executor/cuda/cuda_gpu_executor.cc:936] successful NUMA node read from SysFS had negative value (-1), but there must be at least one NUMA node, so returning NUMA node zero\n",
      "2022-05-05 16:55:33.585546: I tensorflow/core/common_runtime/gpu/gpu_device.cc:1525] Created device /job:localhost/replica:0/task:0/device:GPU:0 with 1332 MB memory:  -> device: 0, name: NVIDIA GeForce GT 1030, pci bus id: 0000:29:00.0, compute capability: 6.1\n"
     ]
    }
   ],
   "source": [
    "config = tf.compat.v1.ConfigProto()\n",
    "config.gpu_options.allow_growth = True\n",
    "session = tf.compat.v1.Session(config=config)"
   ]
  },
  {
   "cell_type": "code",
   "execution_count": 4,
   "id": "c2125f05",
   "metadata": {
    "execution": {
     "iopub.execute_input": "2022-04-28T18:54:15.699270Z",
     "iopub.status.busy": "2022-04-28T18:54:15.698973Z",
     "iopub.status.idle": "2022-04-28T18:54:18.829583Z",
     "shell.execute_reply": "2022-04-28T18:54:18.827386Z"
    },
    "papermill": {
     "duration": 3.141802,
     "end_time": "2022-04-28T18:54:18.832681",
     "exception": false,
     "start_time": "2022-04-28T18:54:15.690879",
     "status": "completed"
    },
    "tags": []
   },
   "outputs": [
    {
     "name": "stdout",
     "output_type": "stream",
     "text": [
      "Model: \"sequential\"\n",
      "_________________________________________________________________\n",
      " Layer (type)                Output Shape              Param #   \n",
      "=================================================================\n",
      " conv2d (Conv2D)             (None, 63, 63, 64)        640       \n",
      "                                                                 \n",
      " max_pooling2d (MaxPooling2D  (None, 31, 31, 64)       0         \n",
      " )                                                               \n",
      "                                                                 \n",
      " conv2d_1 (Conv2D)           (None, 29, 29, 64)        36928     \n",
      "                                                                 \n",
      " max_pooling2d_1 (MaxPooling  (None, 14, 14, 64)       0         \n",
      " 2D)                                                             \n",
      "                                                                 \n",
      " flatten (Flatten)           (None, 12544)             0         \n",
      "                                                                 \n",
      " dense (Dense)               (None, 64)                802880    \n",
      "                                                                 \n",
      " dense_1 (Dense)             (None, 1)                 65        \n",
      "                                                                 \n",
      "=================================================================\n",
      "Total params: 840,513\n",
      "Trainable params: 840,513\n",
      "Non-trainable params: 0\n",
      "_________________________________________________________________\n"
     ]
    },
    {
     "name": "stderr",
     "output_type": "stream",
     "text": [
      "2022-05-05 16:55:39.832291: I tensorflow/stream_executor/cuda/cuda_gpu_executor.cc:936] successful NUMA node read from SysFS had negative value (-1), but there must be at least one NUMA node, so returning NUMA node zero\n",
      "2022-05-05 16:55:39.832531: I tensorflow/stream_executor/cuda/cuda_gpu_executor.cc:936] successful NUMA node read from SysFS had negative value (-1), but there must be at least one NUMA node, so returning NUMA node zero\n",
      "2022-05-05 16:55:39.832684: I tensorflow/stream_executor/cuda/cuda_gpu_executor.cc:936] successful NUMA node read from SysFS had negative value (-1), but there must be at least one NUMA node, so returning NUMA node zero\n",
      "2022-05-05 16:55:39.833001: I tensorflow/stream_executor/cuda/cuda_gpu_executor.cc:936] successful NUMA node read from SysFS had negative value (-1), but there must be at least one NUMA node, so returning NUMA node zero\n",
      "2022-05-05 16:55:39.833123: I tensorflow/stream_executor/cuda/cuda_gpu_executor.cc:936] successful NUMA node read from SysFS had negative value (-1), but there must be at least one NUMA node, so returning NUMA node zero\n",
      "2022-05-05 16:55:39.833251: I tensorflow/stream_executor/cuda/cuda_gpu_executor.cc:936] successful NUMA node read from SysFS had negative value (-1), but there must be at least one NUMA node, so returning NUMA node zero\n",
      "2022-05-05 16:55:39.833412: I tensorflow/stream_executor/cuda/cuda_gpu_executor.cc:936] successful NUMA node read from SysFS had negative value (-1), but there must be at least one NUMA node, so returning NUMA node zero\n",
      "2022-05-05 16:55:39.833527: I tensorflow/stream_executor/cuda/cuda_gpu_executor.cc:936] successful NUMA node read from SysFS had negative value (-1), but there must be at least one NUMA node, so returning NUMA node zero\n",
      "2022-05-05 16:55:39.833619: I tensorflow/core/common_runtime/gpu/gpu_device.cc:1525] Created device /job:localhost/replica:0/task:0/device:GPU:0 with 1332 MB memory:  -> device: 0, name: NVIDIA GeForce GT 1030, pci bus id: 0000:29:00.0, compute capability: 6.1\n"
     ]
    }
   ],
   "source": [
    "model = models.Sequential()\n",
    "model.add(layers.Conv2D(64, (3, 3), activation='relu', input_shape= X.shape[1:]))\n",
    "model.add(layers.MaxPooling2D((2, 2)))\n",
    "model.add(layers.Conv2D(64, (3, 3), activation='relu'))\n",
    "model.add(layers.MaxPooling2D((2, 2)))\n",
    "\n",
    "\n",
    "model.add(layers.Flatten())\n",
    "model.add(layers.Dense(64, activation='relu'))\n",
    "model.add(layers.Dense(1,  activation='sigmoid'))\n",
    "\n",
    "model.summary()"
   ]
  },
  {
   "cell_type": "code",
   "execution_count": 7,
   "id": "e92e3304",
   "metadata": {
    "execution": {
     "iopub.execute_input": "2022-04-28T18:54:18.859850Z",
     "iopub.status.busy": "2022-04-28T18:54:18.859392Z",
     "iopub.status.idle": "2022-04-28T18:54:18.872854Z",
     "shell.execute_reply": "2022-04-28T18:54:18.871904Z"
    },
    "papermill": {
     "duration": 0.030506,
     "end_time": "2022-04-28T18:54:18.876137",
     "exception": false,
     "start_time": "2022-04-28T18:54:18.845631",
     "status": "completed"
    },
    "tags": []
   },
   "outputs": [
    {
     "name": "stdout",
     "output_type": "stream",
     "text": [
      "1 Physical GPUs, 1 Logical GPU\n"
     ]
    }
   ],
   "source": [
    "gpus = tf.config.list_physical_devices('GPU')\n",
    "if gpus:\n",
    " \n",
    "  try:\n",
    "    tf.config.set_visible_devices(gpus[0], 'GPU')\n",
    "    logical_gpus = tf.config.list_logical_devices('GPU')\n",
    "    print(len(gpus), \"Physical GPUs,\", len(logical_gpus), \"Logical GPU\")\n",
    "  except RuntimeError as e:\n",
    "   \n",
    "    print(e)"
   ]
  },
  {
   "cell_type": "code",
   "execution_count": 5,
   "id": "d63bf498",
   "metadata": {
    "execution": {
     "iopub.execute_input": "2022-04-28T18:54:18.904338Z",
     "iopub.status.busy": "2022-04-28T18:54:18.903833Z",
     "iopub.status.idle": "2022-04-28T18:54:38.436222Z",
     "shell.execute_reply": "2022-04-28T18:54:38.435318Z"
    },
    "papermill": {
     "duration": 19.54967,
     "end_time": "2022-04-28T18:54:38.438736",
     "exception": false,
     "start_time": "2022-04-28T18:54:18.889066",
     "status": "completed"
    },
    "tags": []
   },
   "outputs": [
    {
     "name": "stdout",
     "output_type": "stream",
     "text": [
      "Epoch 1/10\n"
     ]
    },
    {
     "name": "stderr",
     "output_type": "stream",
     "text": [
      "2022-05-05 16:55:50.855391: I tensorflow/stream_executor/cuda/cuda_dnn.cc:368] Loaded cuDNN version 8100\n",
      "2022-05-05 16:55:51.022227: I tensorflow/core/platform/default/subprocess.cc:304] Start cannot spawn child process: No such file or directory\n"
     ]
    },
    {
     "name": "stdout",
     "output_type": "stream",
     "text": [
      "166/166 [==============================] - 7s 34ms/step - loss: 1.9635 - accuracy: 0.6455 - val_loss: 0.5941 - val_accuracy: 0.6915\n",
      "Epoch 2/10\n",
      "166/166 [==============================] - 5s 32ms/step - loss: 0.5159 - accuracy: 0.7433 - val_loss: 0.5087 - val_accuracy: 0.7564\n",
      "Epoch 3/10\n",
      "166/166 [==============================] - 6s 34ms/step - loss: 0.4320 - accuracy: 0.7935 - val_loss: 0.4923 - val_accuracy: 0.7732\n",
      "Epoch 4/10\n",
      "166/166 [==============================] - 5s 32ms/step - loss: 0.3484 - accuracy: 0.8440 - val_loss: 0.5064 - val_accuracy: 0.7833\n",
      "Epoch 5/10\n",
      "166/166 [==============================] - 5s 32ms/step - loss: 0.2651 - accuracy: 0.8931 - val_loss: 0.5738 - val_accuracy: 0.7723\n",
      "Epoch 6/10\n",
      "166/166 [==============================] - 5s 33ms/step - loss: 0.2965 - accuracy: 0.8672 - val_loss: 0.5904 - val_accuracy: 0.7749\n",
      "Epoch 7/10\n",
      "166/166 [==============================] - 5s 33ms/step - loss: 0.1978 - accuracy: 0.9223 - val_loss: 0.6175 - val_accuracy: 0.7838\n",
      "Epoch 8/10\n",
      "166/166 [==============================] - 6s 34ms/step - loss: 0.1415 - accuracy: 0.9467 - val_loss: 0.6968 - val_accuracy: 0.8063\n",
      "Epoch 9/10\n",
      "166/166 [==============================] - 5s 33ms/step - loss: 0.0953 - accuracy: 0.9707 - val_loss: 0.6161 - val_accuracy: 0.8199\n",
      "Epoch 10/10\n",
      "166/166 [==============================] - 5s 33ms/step - loss: 0.0751 - accuracy: 0.9786 - val_loss: 0.6779 - val_accuracy: 0.8252\n"
     ]
    },
    {
     "data": {
      "text/plain": [
       "<keras.callbacks.History at 0x7fc73c1bdaf0>"
      ]
     },
     "execution_count": 5,
     "metadata": {},
     "output_type": "execute_result"
    }
   ],
   "source": [
    "from tensorflow.keras.callbacks import EarlyStopping\n",
    "callback = EarlyStopping(monitor='loss', patience=3) \n",
    "\n",
    "model.compile(loss='binary_crossentropy',\n",
    "              optimizer='adam',\n",
    "              metrics=['accuracy'])\n",
    "\n",
    "model.fit(X, y, batch_size=32,epochs=10, validation_split=0.3, callbacks=[callback])\n"
   ]
  },
  {
   "cell_type": "code",
   "execution_count": 6,
   "id": "beb94e46",
   "metadata": {},
   "outputs": [],
   "source": [
    "model.save('CNN_64X3.h5')"
   ]
  },
  {
   "cell_type": "code",
   "execution_count": 1,
   "id": "64a40436",
   "metadata": {},
   "outputs": [],
   "source": [
    "from numba import cuda\n",
    "cuda.select_device(0)\n",
    "cuda.close()"
   ]
  }
 ],
 "metadata": {
  "kernelspec": {
   "display_name": "Python 3",
   "language": "python",
   "name": "python3"
  },
  "language_info": {
   "codemirror_mode": {
    "name": "ipython",
    "version": 3
   },
   "file_extension": ".py",
   "mimetype": "text/x-python",
   "name": "python",
   "nbconvert_exporter": "python",
   "pygments_lexer": "ipython3",
   "version": "3.8.10"
  },
  "papermill": {
   "default_parameters": {},
   "duration": 42.575455,
   "end_time": "2022-04-28T18:54:41.770083",
   "environment_variables": {},
   "exception": null,
   "input_path": "__notebook__.ipynb",
   "output_path": "__notebook__.ipynb",
   "parameters": {},
   "start_time": "2022-04-28T18:53:59.194628",
   "version": "2.3.4"
  }
 },
 "nbformat": 4,
 "nbformat_minor": 5
}
