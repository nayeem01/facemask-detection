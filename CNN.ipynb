{
 "cells": [
  {
   "cell_type": "code",
   "execution_count": 1,
   "id": "b1ec82ba",
   "metadata": {
    "_cell_guid": "b1076dfc-b9ad-4769-8c92-a6c4dae69d19",
    "_uuid": "8f2839f25d086af736a60e9eeb907d3b93b6e0e5",
    "execution": {
     "iopub.execute_input": "2022-04-28T18:54:09.222583Z",
     "iopub.status.busy": "2022-04-28T18:54:09.222054Z",
     "iopub.status.idle": "2022-04-28T18:54:09.972736Z",
     "shell.execute_reply": "2022-04-28T18:54:09.971814Z"
    },
    "papermill": {
     "duration": 0.763968,
     "end_time": "2022-04-28T18:54:09.975519",
     "exception": false,
     "start_time": "2022-04-28T18:54:09.211551",
     "status": "completed"
    },
    "tags": []
   },
   "outputs": [],
   "source": [
    "import pickle\n",
    "import os\n",
    "\n",
    "DATADIR = \"/kaggle/input/picklefacemask/\"\n",
    "    \n",
    "pickle_in = open(os.path.join(DATADIR,\"X.pickle\"),\"rb\")\n",
    "X = pickle.load(pickle_in)\n",
    "\n",
    "pickle_in = open(os.path.join(DATADIR,\"y.pickle\"),\"rb\")\n",
    "y = pickle.load(pickle_in)"
   ]
  },
  {
   "cell_type": "code",
   "execution_count": 2,
   "id": "6dfd3d3f",
   "metadata": {
    "execution": {
     "iopub.execute_input": "2022-04-28T18:54:09.991566Z",
     "iopub.status.busy": "2022-04-28T18:54:09.990938Z",
     "iopub.status.idle": "2022-04-28T18:54:15.680988Z",
     "shell.execute_reply": "2022-04-28T18:54:15.680009Z"
    },
    "papermill": {
     "duration": 5.701178,
     "end_time": "2022-04-28T18:54:15.683979",
     "exception": false,
     "start_time": "2022-04-28T18:54:09.982801",
     "status": "completed"
    },
    "tags": []
   },
   "outputs": [],
   "source": [
    "import tensorflow as tf\n",
    "from tensorflow.keras import layers, models"
   ]
  },
  {
   "cell_type": "code",
   "execution_count": 3,
   "id": "c2125f05",
   "metadata": {
    "execution": {
     "iopub.execute_input": "2022-04-28T18:54:15.699270Z",
     "iopub.status.busy": "2022-04-28T18:54:15.698973Z",
     "iopub.status.idle": "2022-04-28T18:54:18.829583Z",
     "shell.execute_reply": "2022-04-28T18:54:18.827386Z"
    },
    "papermill": {
     "duration": 3.141802,
     "end_time": "2022-04-28T18:54:18.832681",
     "exception": false,
     "start_time": "2022-04-28T18:54:15.690879",
     "status": "completed"
    },
    "tags": []
   },
   "outputs": [
    {
     "name": "stdout",
     "output_type": "stream",
     "text": [
      "Model: \"sequential\"\n",
      "_________________________________________________________________\n",
      "Layer (type)                 Output Shape              Param #   \n",
      "=================================================================\n",
      "conv2d (Conv2D)              (None, 63, 63, 64)        640       \n",
      "_________________________________________________________________\n",
      "max_pooling2d (MaxPooling2D) (None, 31, 31, 64)        0         \n",
      "_________________________________________________________________\n",
      "conv2d_1 (Conv2D)            (None, 29, 29, 64)        36928     \n",
      "_________________________________________________________________\n",
      "max_pooling2d_1 (MaxPooling2 (None, 14, 14, 64)        0         \n",
      "_________________________________________________________________\n",
      "flatten (Flatten)            (None, 12544)             0         \n",
      "_________________________________________________________________\n",
      "dense (Dense)                (None, 64)                802880    \n",
      "_________________________________________________________________\n",
      "dense_1 (Dense)              (None, 1)                 65        \n",
      "=================================================================\n",
      "Total params: 840,513\n",
      "Trainable params: 840,513\n",
      "Non-trainable params: 0\n",
      "_________________________________________________________________\n"
     ]
    },
    {
     "name": "stderr",
     "output_type": "stream",
     "text": [
      "2022-04-28 18:54:15.796405: I tensorflow/stream_executor/cuda/cuda_gpu_executor.cc:937] successful NUMA node read from SysFS had negative value (-1), but there must be at least one NUMA node, so returning NUMA node zero\n",
      "2022-04-28 18:54:15.916123: I tensorflow/stream_executor/cuda/cuda_gpu_executor.cc:937] successful NUMA node read from SysFS had negative value (-1), but there must be at least one NUMA node, so returning NUMA node zero\n",
      "2022-04-28 18:54:15.917087: I tensorflow/stream_executor/cuda/cuda_gpu_executor.cc:937] successful NUMA node read from SysFS had negative value (-1), but there must be at least one NUMA node, so returning NUMA node zero\n",
      "2022-04-28 18:54:15.918695: I tensorflow/core/platform/cpu_feature_guard.cc:142] This TensorFlow binary is optimized with oneAPI Deep Neural Network Library (oneDNN) to use the following CPU instructions in performance-critical operations:  AVX2 AVX512F FMA\n",
      "To enable them in other operations, rebuild TensorFlow with the appropriate compiler flags.\n",
      "2022-04-28 18:54:15.919083: I tensorflow/stream_executor/cuda/cuda_gpu_executor.cc:937] successful NUMA node read from SysFS had negative value (-1), but there must be at least one NUMA node, so returning NUMA node zero\n",
      "2022-04-28 18:54:15.919998: I tensorflow/stream_executor/cuda/cuda_gpu_executor.cc:937] successful NUMA node read from SysFS had negative value (-1), but there must be at least one NUMA node, so returning NUMA node zero\n",
      "2022-04-28 18:54:15.920853: I tensorflow/stream_executor/cuda/cuda_gpu_executor.cc:937] successful NUMA node read from SysFS had negative value (-1), but there must be at least one NUMA node, so returning NUMA node zero\n",
      "2022-04-28 18:54:18.191202: I tensorflow/stream_executor/cuda/cuda_gpu_executor.cc:937] successful NUMA node read from SysFS had negative value (-1), but there must be at least one NUMA node, so returning NUMA node zero\n",
      "2022-04-28 18:54:18.192519: I tensorflow/stream_executor/cuda/cuda_gpu_executor.cc:937] successful NUMA node read from SysFS had negative value (-1), but there must be at least one NUMA node, so returning NUMA node zero\n",
      "2022-04-28 18:54:18.193660: I tensorflow/stream_executor/cuda/cuda_gpu_executor.cc:937] successful NUMA node read from SysFS had negative value (-1), but there must be at least one NUMA node, so returning NUMA node zero\n",
      "2022-04-28 18:54:18.195581: I tensorflow/core/common_runtime/gpu/gpu_device.cc:1510] Created device /job:localhost/replica:0/task:0/device:GPU:0 with 15403 MB memory:  -> device: 0, name: Tesla P100-PCIE-16GB, pci bus id: 0000:00:04.0, compute capability: 6.0\n"
     ]
    }
   ],
   "source": [
    "model = models.Sequential()\n",
    "model.add(layers.Conv2D(64, (3, 3), activation='relu', input_shape= X.shape[1:]))\n",
    "model.add(layers.MaxPooling2D((2, 2)))\n",
    "model.add(layers.Conv2D(64, (3, 3), activation='relu'))\n",
    "model.add(layers.MaxPooling2D((2, 2)))\n",
    "\n",
    "\n",
    "model.add(layers.Flatten())\n",
    "model.add(layers.Dense(64, activation='relu'))\n",
    "model.add(layers.Dense(1,  activation='sigmoid'))\n",
    "\n",
    "model.summary()"
   ]
  },
  {
   "cell_type": "code",
   "execution_count": 4,
   "id": "e92e3304",
   "metadata": {
    "execution": {
     "iopub.execute_input": "2022-04-28T18:54:18.859850Z",
     "iopub.status.busy": "2022-04-28T18:54:18.859392Z",
     "iopub.status.idle": "2022-04-28T18:54:18.872854Z",
     "shell.execute_reply": "2022-04-28T18:54:18.871904Z"
    },
    "papermill": {
     "duration": 0.030506,
     "end_time": "2022-04-28T18:54:18.876137",
     "exception": false,
     "start_time": "2022-04-28T18:54:18.845631",
     "status": "completed"
    },
    "tags": []
   },
   "outputs": [
    {
     "name": "stdout",
     "output_type": "stream",
     "text": [
      "1 Physical GPUs, 1 Logical GPU\n"
     ]
    }
   ],
   "source": [
    "gpus = tf.config.list_physical_devices('GPU')\n",
    "if gpus:\n",
    " \n",
    "  try:\n",
    "    tf.config.set_visible_devices(gpus[0], 'GPU')\n",
    "    logical_gpus = tf.config.list_logical_devices('GPU')\n",
    "    print(len(gpus), \"Physical GPUs,\", len(logical_gpus), \"Logical GPU\")\n",
    "  except RuntimeError as e:\n",
    "   \n",
    "    print(e)"
   ]
  },
  {
   "cell_type": "code",
   "execution_count": 5,
   "id": "d63bf498",
   "metadata": {
    "execution": {
     "iopub.execute_input": "2022-04-28T18:54:18.904338Z",
     "iopub.status.busy": "2022-04-28T18:54:18.903833Z",
     "iopub.status.idle": "2022-04-28T18:54:38.436222Z",
     "shell.execute_reply": "2022-04-28T18:54:38.435318Z"
    },
    "papermill": {
     "duration": 19.54967,
     "end_time": "2022-04-28T18:54:38.438736",
     "exception": false,
     "start_time": "2022-04-28T18:54:18.889066",
     "status": "completed"
    },
    "tags": []
   },
   "outputs": [
    {
     "name": "stderr",
     "output_type": "stream",
     "text": [
      "2022-04-28 18:54:19.053004: I tensorflow/compiler/mlir/mlir_graph_optimization_pass.cc:185] None of the MLIR Optimization Passes are enabled (registered 2)\n"
     ]
    },
    {
     "name": "stdout",
     "output_type": "stream",
     "text": [
      "Epoch 1/10\n"
     ]
    },
    {
     "name": "stderr",
     "output_type": "stream",
     "text": [
      "2022-04-28 18:54:20.731544: I tensorflow/stream_executor/cuda/cuda_dnn.cc:369] Loaded cuDNN version 8005\n"
     ]
    },
    {
     "name": "stdout",
     "output_type": "stream",
     "text": [
      "166/166 [==============================] - 9s 8ms/step - loss: 2.3129 - accuracy: 0.6552 - val_loss: 0.6280 - val_accuracy: 0.6990\n",
      "Epoch 2/10\n",
      "166/166 [==============================] - 1s 8ms/step - loss: 0.4700 - accuracy: 0.7744 - val_loss: 0.4392 - val_accuracy: 0.7864\n",
      "Epoch 3/10\n",
      "166/166 [==============================] - 1s 7ms/step - loss: 0.3336 - accuracy: 0.8576 - val_loss: 0.4085 - val_accuracy: 0.8080\n",
      "Epoch 4/10\n",
      "166/166 [==============================] - 1s 8ms/step - loss: 0.2367 - accuracy: 0.8981 - val_loss: 0.4408 - val_accuracy: 0.8252\n",
      "Epoch 5/10\n",
      "166/166 [==============================] - 1s 7ms/step - loss: 0.1742 - accuracy: 0.9281 - val_loss: 0.4056 - val_accuracy: 0.8522\n",
      "Epoch 6/10\n",
      "166/166 [==============================] - 1s 7ms/step - loss: 0.1400 - accuracy: 0.9472 - val_loss: 0.4305 - val_accuracy: 0.8389\n",
      "Epoch 7/10\n",
      "166/166 [==============================] - 1s 7ms/step - loss: 0.0880 - accuracy: 0.9682 - val_loss: 0.5677 - val_accuracy: 0.8495\n",
      "Epoch 8/10\n",
      "166/166 [==============================] - 1s 7ms/step - loss: 0.1197 - accuracy: 0.9603 - val_loss: 0.4604 - val_accuracy: 0.8482\n",
      "Epoch 9/10\n",
      "166/166 [==============================] - 1s 7ms/step - loss: 0.0657 - accuracy: 0.9779 - val_loss: 0.5993 - val_accuracy: 0.8583\n",
      "Epoch 10/10\n",
      "166/166 [==============================] - 1s 7ms/step - loss: 0.0571 - accuracy: 0.9830 - val_loss: 0.7028 - val_accuracy: 0.8372\n"
     ]
    }
   ],
   "source": [
    "from tensorflow.keras.callbacks import EarlyStopping\n",
    "callback = EarlyStopping(monitor='loss', patience=3) \n",
    "\n",
    "model.compile(loss='binary_crossentropy',\n",
    "              optimizer='adam',\n",
    "              metrics=['accuracy'])\n",
    "\n",
    "with tf.device('/GPU:0'):\n",
    "    model.fit(X, y, batch_size=32,epochs=10, validation_split=0.3, callbacks=[callback])\n"
   ]
  }
 ],
 "metadata": {
  "kernelspec": {
   "display_name": "Python 3",
   "language": "python",
   "name": "python3"
  },
  "language_info": {
   "codemirror_mode": {
    "name": "ipython",
    "version": 3
   },
   "file_extension": ".py",
   "mimetype": "text/x-python",
   "name": "python",
   "nbconvert_exporter": "python",
   "pygments_lexer": "ipython3",
   "version": "3.7.12"
  },
  "papermill": {
   "default_parameters": {},
   "duration": 42.575455,
   "end_time": "2022-04-28T18:54:41.770083",
   "environment_variables": {},
   "exception": null,
   "input_path": "__notebook__.ipynb",
   "output_path": "__notebook__.ipynb",
   "parameters": {},
   "start_time": "2022-04-28T18:53:59.194628",
   "version": "2.3.4"
  }
 },
 "nbformat": 4,
 "nbformat_minor": 5
}
